{
 "cells": [
  {
   "cell_type": "code",
   "execution_count": 1,
   "metadata": {
    "collapsed": true
   },
   "outputs": [],
   "source": [
    "import arcgis\n",
    "from getpass import getpass"
   ]
  },
  {
   "cell_type": "code",
   "execution_count": 3,
   "metadata": {},
   "outputs": [
    {
     "name": "stdout",
     "output_type": "stream",
     "text": [
      "········\n"
     ]
    }
   ],
   "source": [
    "gis = arcgis.gis.GIS(\"https://www.arcgis.com\", \"YOURUSERNAME\", getpass())"
   ]
  },
  {
   "cell_type": "code",
   "execution_count": 4,
   "metadata": {
    "collapsed": true
   },
   "outputs": [],
   "source": [
    "template_item = gis.content.get(\"5b7559cfbc32426fb811cb87e51d0ff1\")"
   ]
  },
  {
   "cell_type": "code",
   "execution_count": 5,
   "metadata": {
    "collapsed": true
   },
   "outputs": [],
   "source": [
    "template_lyr = template_item.layers[0]"
   ]
  },
  {
   "cell_type": "code",
   "execution_count": 6,
   "metadata": {
    "collapsed": true
   },
   "outputs": [
    {
     "data": {
      "text/plain": [
       "{\n",
       "  \"drawingInfo\": {\n",
       "    \"transparency\": 20,\n",
       "    \"renderer\": {\n",
       "      \"minValue\": -9007199254740991,\n",
       "      \"defaultSymbol\": {\n",
       "        \"color\": [\n",
       "          204,\n",
       "          112,\n",
       "          180,\n",
       "          255\n",
       "        ],\n",
       "        \"size\": 4,\n",
       "        \"yoffset\": 0,\n",
       "        \"type\": \"esriSMS\",\n",
       "        \"outline\": {\n",
       "          \"color\": [\n",
       "            204,\n",
       "            113,\n",
       "            180,\n",
       "            255\n",
       "          ],\n",
       "          \"style\": \"esriSLSSolid\",\n",
       "          \"width\": 1,\n",
       "          \"type\": \"esriSLS\"\n",
       "        },\n",
       "        \"xoffset\": 0,\n",
       "        \"style\": \"esriSMSCircle\",\n",
       "        \"angle\": 0\n",
       "      },\n",
       "      \"type\": \"classBreaks\",\n",
       "      \"field\": \"Point_Count\",\n",
       "      \"backgroundFillSymbol\": {\n",
       "        \"color\": [\n",
       "          255,\n",
       "          255,\n",
       "          255,\n",
       "          0\n",
       "        ],\n",
       "        \"style\": \"esriSFSSolid\",\n",
       "        \"type\": \"esriSFS\",\n",
       "        \"outline\": {\n",
       "          \"color\": [\n",
       "            68,\n",
       "            68,\n",
       "            68,\n",
       "            255\n",
       "          ],\n",
       "          \"style\": \"esriSLSSolid\",\n",
       "          \"width\": 1.5,\n",
       "          \"type\": \"esriSLS\"\n",
       "        }\n",
       "      },\n",
       "      \"visualVariables\": [\n",
       "        {\n",
       "          \"minDataValue\": 0,\n",
       "          \"valueExpression\": null,\n",
       "          \"maxDataValue\": 4,\n",
       "          \"minSize\": 12,\n",
       "          \"type\": \"sizeInfo\",\n",
       "          \"maxSize\": 60,\n",
       "          \"field\": \"Point_Count\",\n",
       "          \"valueUnit\": \"unknown\"\n",
       "        }\n",
       "      ],\n",
       "      \"authoringInfo\": {\n",
       "        \"visualVariables\": [\n",
       "          {\n",
       "            \"maxSliderValue\": 4,\n",
       "            \"minSliderValue\": 0,\n",
       "            \"type\": \"sizeInfo\"\n",
       "          }\n",
       "        ]\n",
       "      },\n",
       "      \"classBreakInfos\": [\n",
       "        {\n",
       "          \"symbol\": {\n",
       "            \"color\": [\n",
       "              0,\n",
       "              92,\n",
       "              230,\n",
       "              255\n",
       "            ],\n",
       "            \"size\": 11.25,\n",
       "            \"yoffset\": 0,\n",
       "            \"type\": \"esriSMS\",\n",
       "            \"outline\": {\n",
       "              \"color\": [\n",
       "                26,\n",
       "                26,\n",
       "                26,\n",
       "                255\n",
       "              ],\n",
       "              \"style\": \"esriSLSSolid\",\n",
       "              \"width\": 1,\n",
       "              \"type\": \"esriSLS\"\n",
       "            },\n",
       "            \"xoffset\": 0,\n",
       "            \"style\": \"esriSMSCircle\",\n",
       "            \"angle\": 0\n",
       "          },\n",
       "          \"classMaxValue\": 9007199254740991\n",
       "        }\n",
       "      ]\n",
       "    }\n",
       "  },\n",
       "  \"allowGeometryUpdates\": true,\n",
       "  \"editingInfo\": {\n",
       "    \"lastEditDate\": 1495343644068\n",
       "  },\n",
       "  \"minScale\": 0,\n",
       "  \"supportsCoordinatesQuantization\": true,\n",
       "  \"supportsRollbackOnFailureParameter\": true,\n",
       "  \"objectIdField\": \"OBJECTID\",\n",
       "  \"hasAttachments\": false,\n",
       "  \"supportsApplyEditsWithGlobalIds\": false,\n",
       "  \"supportsAdvancedQueries\": true,\n",
       "  \"name\": \"WildlifeObservation_Sum\",\n",
       "  \"adminLayerInfo\": {\n",
       "    \"tableExtent\": {\n",
       "      \"spatialReference\": {\n",
       "        \"wkt\": \"\",\n",
       "        \"sdesrid\": 3857,\n",
       "        \"wkid\": 3857\n",
       "      },\n",
       "      \"xmin\": -13714906.5247,\n",
       "      \"ymin\": 5903318.686800003,\n",
       "      \"ymax\": 5973833.636699997,\n",
       "      \"xmax\": -13603587.4821\n",
       "    },\n",
       "    \"xssTrustedFields\": \"\",\n",
       "    \"tableName\": \"db_171.USER_171.WILDLIFEOBSERVATION_SUM_WILDLIFEOBSERVATION_SUM\",\n",
       "    \"geometryField\": {\n",
       "      \"name\": \"Shape\"\n",
       "    }\n",
       "  },\n",
       "  \"fields\": [\n",
       "    {\n",
       "      \"editable\": false,\n",
       "      \"type\": \"esriFieldTypeOID\",\n",
       "      \"domain\": null,\n",
       "      \"alias\": \"OBJECTID\",\n",
       "      \"name\": \"OBJECTID\",\n",
       "      \"defaultValue\": null,\n",
       "      \"actualType\": \"int\",\n",
       "      \"sqlType\": \"sqlTypeInteger\",\n",
       "      \"nullable\": false,\n",
       "      \"visible\": true\n",
       "    },\n",
       "    {\n",
       "      \"editable\": true,\n",
       "      \"type\": \"esriFieldTypeInteger\",\n",
       "      \"domain\": null,\n",
       "      \"alias\": \"Count of Points\",\n",
       "      \"name\": \"Point_Count\",\n",
       "      \"defaultValue\": null,\n",
       "      \"actualType\": \"int\",\n",
       "      \"sqlType\": \"sqlTypeInteger\",\n",
       "      \"nullable\": true,\n",
       "      \"visible\": true\n",
       "    },\n",
       "    {\n",
       "      \"length\": 20,\n",
       "      \"editable\": true,\n",
       "      \"type\": \"esriFieldTypeString\",\n",
       "      \"domain\": null,\n",
       "      \"alias\": \"JURISDICTION LABEL\",\n",
       "      \"name\": \"JURLBL\",\n",
       "      \"defaultValue\": null,\n",
       "      \"actualType\": \"nvarchar\",\n",
       "      \"sqlType\": \"sqlTypeNVarchar\",\n",
       "      \"nullable\": true,\n",
       "      \"visible\": true\n",
       "    },\n",
       "    {\n",
       "      \"length\": 50,\n",
       "      \"editable\": true,\n",
       "      \"type\": \"esriFieldTypeString\",\n",
       "      \"domain\": null,\n",
       "      \"alias\": \"JURISDICTION NAME\",\n",
       "      \"name\": \"JURNM\",\n",
       "      \"defaultValue\": null,\n",
       "      \"actualType\": \"nvarchar\",\n",
       "      \"sqlType\": \"sqlTypeNVarchar\",\n",
       "      \"nullable\": true,\n",
       "      \"visible\": true\n",
       "    },\n",
       "    {\n",
       "      \"editable\": true,\n",
       "      \"type\": \"esriFieldTypeDouble\",\n",
       "      \"domain\": null,\n",
       "      \"alias\": \"COUNTY NUMBER\",\n",
       "      \"name\": \"JURDSG\",\n",
       "      \"defaultValue\": null,\n",
       "      \"actualType\": \"decimal\",\n",
       "      \"sqlType\": \"sqlTypeDecimal\",\n",
       "      \"nullable\": true,\n",
       "      \"visible\": true\n",
       "    },\n",
       "    {\n",
       "      \"editable\": true,\n",
       "      \"type\": \"esriFieldTypeDouble\",\n",
       "      \"domain\": null,\n",
       "      \"alias\": \"COUNTY FIPS CODE\",\n",
       "      \"name\": \"JURFIPSDSG\",\n",
       "      \"defaultValue\": null,\n",
       "      \"actualType\": \"decimal\",\n",
       "      \"sqlType\": \"sqlTypeDecimal\",\n",
       "      \"nullable\": true,\n",
       "      \"visible\": true\n",
       "    },\n",
       "    {\n",
       "      \"editable\": true,\n",
       "      \"type\": \"esriFieldTypeDouble\",\n",
       "      \"domain\": null,\n",
       "      \"alias\": \"Area in Square Kilometers\",\n",
       "      \"name\": \"AnalysisArea\",\n",
       "      \"defaultValue\": null,\n",
       "      \"actualType\": \"decimal\",\n",
       "      \"sqlType\": \"sqlTypeDecimal\",\n",
       "      \"nullable\": true,\n",
       "      \"visible\": true\n",
       "    }\n",
       "  ],\n",
       "  \"isDataVersioned\": false,\n",
       "  \"useStandardizedQueries\": false,\n",
       "  \"hasStaticData\": true,\n",
       "  \"displayField\": \"\",\n",
       "  \"supportsAttachmentsByUploadId\": true,\n",
       "  \"defaultVisibility\": true,\n",
       "  \"typeIdField\": \"\",\n",
       "  \"supportsTruncate\": true,\n",
       "  \"globalIdField\": \"\",\n",
       "  \"relationships\": [],\n",
       "  \"copyrightText\": \"\",\n",
       "  \"tileMaxRecordCount\": 4000,\n",
       "  \"supportsStatistics\": true,\n",
       "  \"id\": 0,\n",
       "  \"description\": \"\",\n",
       "  \"serviceItemId\": \"5b7559cfbc32426fb811cb87e51d0ff1\",\n",
       "  \"templates\": [\n",
       "    {\n",
       "      \"drawingTool\": \"esriFeatureEditToolPolygon\",\n",
       "      \"name\": \"New Feature\",\n",
       "      \"description\": \"\",\n",
       "      \"prototype\": {\n",
       "        \"attributes\": {\n",
       "          \"AnalysisArea\": null,\n",
       "          \"Point_Count\": null,\n",
       "          \"JURLBL\": null,\n",
       "          \"JURFIPSDSG\": null,\n",
       "          \"JURNM\": null,\n",
       "          \"JURDSG\": null\n",
       "        }\n",
       "      }\n",
       "    }\n",
       "  ],\n",
       "  \"hasZ\": false,\n",
       "  \"types\": [],\n",
       "  \"extent\": {\n",
       "    \"spatialReference\": {\n",
       "      \"latestWkid\": 3857,\n",
       "      \"wkid\": 102100\n",
       "    },\n",
       "    \"xmin\": -13714906.5247,\n",
       "    \"ymin\": 5903318.686800003,\n",
       "    \"ymax\": 5973833.636699997,\n",
       "    \"xmax\": -13603587.4821\n",
       "  },\n",
       "  \"maxScale\": 0,\n",
       "  \"supportsMultiScaleGeometry\": true,\n",
       "  \"supportsCalculate\": true,\n",
       "  \"capabilities\": \"Query\",\n",
       "  \"advancedQueryCapabilities\": {\n",
       "    \"supportsStatistics\": true,\n",
       "    \"supportsSqlExpression\": true,\n",
       "    \"supportsReturningQueryExtent\": true,\n",
       "    \"supportsQueryWithDistance\": true,\n",
       "    \"supportsReturningGeometryCentroid\": true,\n",
       "    \"supportsAdvancedQueryRelated\": true,\n",
       "    \"supportsPagination\": true,\n",
       "    \"supportsOrderBy\": true,\n",
       "    \"supportsDistinct\": true,\n",
       "    \"supportsQueryWithResultType\": true,\n",
       "    \"supportsQueryRelatedPagination\": true,\n",
       "    \"supportsReturningGeometryProperties\": true\n",
       "  },\n",
       "  \"supportedQueryFormats\": \"JSON, geoJSON\",\n",
       "  \"supportsValidateSql\": true,\n",
       "  \"standardMaxRecordCount\": 4000,\n",
       "  \"maxRecordCountFactor\": 1,\n",
       "  \"type\": \"Feature Layer\",\n",
       "  \"hasM\": false,\n",
       "  \"indexes\": [\n",
       "    {\n",
       "      \"name\": \"PK__WILDLIFE__F4B70D85F03D1899\",\n",
       "      \"description\": \"clustered, unique, primary key\",\n",
       "      \"isUnique\": true,\n",
       "      \"isAscending\": true,\n",
       "      \"fields\": \"OBJECTID\"\n",
       "    },\n",
       "    {\n",
       "      \"name\": \"USER_171.WILDLIFEOBSERVATION_SUM_WILDLIFEOBSERVATION_SUM_Shape_sidx\",\n",
       "      \"description\": \"Shape Index\",\n",
       "      \"isUnique\": false,\n",
       "      \"isAscending\": false,\n",
       "      \"fields\": \"Shape\"\n",
       "    }\n",
       "  ],\n",
       "  \"maxRecordCount\": 2000,\n",
       "  \"geometryType\": \"esriGeometryPolygon\",\n",
       "  \"htmlPopupType\": \"esriServerHTMLPopupTypeNone\"\n",
       "}"
      ]
     },
     "execution_count": 6,
     "metadata": {},
     "output_type": "execute_result"
    }
   ],
   "source": [
    "template_lyr.manager.properties"
   ]
  },
  {
   "cell_type": "code",
   "execution_count": 13,
   "metadata": {
    "collapsed": true
   },
   "outputs": [],
   "source": [
    "template_sym = dict(template_lyr.manager.properties.drawingInfo)"
   ]
  },
  {
   "cell_type": "code",
   "execution_count": 14,
   "metadata": {
    "collapsed": true
   },
   "outputs": [],
   "source": [
    "update_item = gis.content.search(query=\"title:WildlifeObservation_Sum_20170520_222125\", item_type=\"Feature Layer\")[0]"
   ]
  },
  {
   "cell_type": "code",
   "execution_count": 15,
   "metadata": {
    "collapsed": true
   },
   "outputs": [],
   "source": [
    "update_lyr = update_item.layers[0]"
   ]
  },
  {
   "cell_type": "code",
   "execution_count": 16,
   "metadata": {
    "collapsed": true
   },
   "outputs": [],
   "source": [
    "update_lyrmgr = update_lyr.manager"
   ]
  },
  {
   "cell_type": "code",
   "execution_count": 17,
   "metadata": {
    "collapsed": true
   },
   "outputs": [],
   "source": [
    "#update_lyrmgr._hydrate() # workaround for bug - fixed in the next release"
   ]
  },
  {
   "cell_type": "code",
   "execution_count": 18,
   "metadata": {},
   "outputs": [
    {
     "data": {
      "text/plain": [
       "{'success': True}"
      ]
     },
     "execution_count": 18,
     "metadata": {},
     "output_type": "execute_result"
    }
   ],
   "source": [
    "update_lyrmgr.update_definition({\"drawingInfo\": template_sym})"
   ]
  },
  {
   "cell_type": "code",
   "execution_count": null,
   "metadata": {
    "collapsed": true
   },
   "outputs": [],
   "source": []
  }
 ],
 "metadata": {
  "kernelspec": {
   "display_name": "Python 3",
   "language": "python",
   "name": "python3"
  },
  "language_info": {
   "codemirror_mode": {
    "name": "ipython",
    "version": 3
   },
   "file_extension": ".py",
   "mimetype": "text/x-python",
   "name": "python",
   "nbconvert_exporter": "python",
   "pygments_lexer": "ipython3",
   "version": "3.6.2"
  }
 },
 "nbformat": 4,
 "nbformat_minor": 2
}
