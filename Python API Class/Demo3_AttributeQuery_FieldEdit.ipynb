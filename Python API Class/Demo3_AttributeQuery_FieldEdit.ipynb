{
 "cells": [
  {
   "cell_type": "code",
   "execution_count": 1,
   "metadata": {
    "collapsed": true
   },
   "outputs": [],
   "source": [
    "import arcgis, datetime\n",
    "from getpass import getpass"
   ]
  },
  {
   "cell_type": "code",
   "execution_count": 2,
   "metadata": {},
   "outputs": [
    {
     "name": "stdout",
     "output_type": "stream",
     "text": [
      "········\n"
     ]
    }
   ],
   "source": [
    "gis = arcgis.gis.GIS(\"https://www.arcgis.com\", \"ScottMoorePNW\", getpass())"
   ]
  },
  {
   "cell_type": "code",
   "execution_count": 3,
   "metadata": {
    "collapsed": true
   },
   "outputs": [],
   "source": [
    "items = gis.content.search(query=\"title:WildlifeObservations_ScottMoorePNW\", item_type=\"Feature Layer\")"
   ]
  },
  {
   "cell_type": "code",
   "execution_count": 4,
   "metadata": {},
   "outputs": [
    {
     "data": {
      "text/plain": [
       "[<Item title:\"WildlifeObservation_ScottMoorePNW\" type:Feature Layer Collection owner:ScottMoorePNW>,\n",
       " <Item title:\"WildlifeObservation_ScottMoorePNW_Sum_20180213_085005\" type:Feature Layer Collection owner:ScottMoorePNW>,\n",
       " <Item title:\"WildlifeObservation_ScottMoorePNW_Thurston\" type:Feature Layer Collection owner:ScottMoorePNW>]"
      ]
     },
     "execution_count": 4,
     "metadata": {},
     "output_type": "execute_result"
    }
   ],
   "source": [
    "items"
   ]
  },
  {
   "cell_type": "code",
   "execution_count": 5,
   "metadata": {
    "collapsed": true
   },
   "outputs": [],
   "source": [
    "item = items[0]"
   ]
  },
  {
   "cell_type": "code",
   "execution_count": 6,
   "metadata": {},
   "outputs": [
    {
     "data": {
      "text/html": [
       "<div class=\"item_container\" style=\"height: auto; overflow: hidden; border: 1px solid #cfcfcf; border-radius: 2px; background: #f6fafa; line-height: 1.21429em; padding: 10px;\">\n",
       "                    <div class=\"item_left\" style=\"width: 210px; float: left;\">\n",
       "                       <a href='https://pnw.maps.arcgis.com/home/item.html?id=2d1cbda07cf34c5d82f0f2dac6cb6144' target='_blank'>\n",
       "                        <img src='data:image/png;base64,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' width='200' height='133' class=\"itemThumbnail\">\n",
       "                       </a>\n",
       "                    </div>\n",
       "\n",
       "                    <div class=\"item_right\"     style=\"float: none; width: auto; overflow: hidden;\">\n",
       "                        <a href='https://pnw.maps.arcgis.com/home/item.html?id=2d1cbda07cf34c5d82f0f2dac6cb6144' target='_blank'><b>WildlifeObservation_ScottMoorePNW</b>\n",
       "                        </a>\n",
       "                        <br/>The Department of Fish and Game - Division of Wildlife Conservation's game management units and subunits are the most requested of the Division's GIS data. Hunting and trapping regulations and other wildlife management issues often refer geographically to the effected Game Management Unit (GMU). This file gives the user access to the currently available digital representation of the GMU/UCUs. The purpose of the GMU and associated Subunits and Uniform coding units is to give a uniform, geographic based coding system for all State of Alaska wildlife population and habitat management and regulations. This data can be used for mapping or analysis purposes assuming it is used with comparable data.<img src='https://pnw.maps.arcgis.com/home/js/jsapi/esri/css/images/item_type_icons/featureshosted16.png' style=\"vertical-align:middle;\">Feature Layer Collection by ScottMoorePNW\n",
       "                        <br/>Last Modified: February 15, 2018\n",
       "                        <br/>0 comments, 8 views\n",
       "                    </div>\n",
       "                </div>\n",
       "                "
      ],
      "text/plain": [
       "<Item title:\"WildlifeObservation_ScottMoorePNW\" type:Feature Layer Collection owner:ScottMoorePNW>"
      ]
     },
     "execution_count": 6,
     "metadata": {},
     "output_type": "execute_result"
    }
   ],
   "source": [
    "item"
   ]
  },
  {
   "cell_type": "code",
   "execution_count": 7,
   "metadata": {
    "collapsed": true
   },
   "outputs": [],
   "source": [
    "lyr = item.layers[0]"
   ]
  },
  {
   "cell_type": "code",
   "execution_count": 8,
   "metadata": {
    "collapsed": true
   },
   "outputs": [],
   "source": [
    "fset = lyr.query(where=\"last_edited_date IS NOT NULL\", out_fields=\"OBJECTID,last_edited_date,DaysSinceObs\", return_geometry=False)"
   ]
  },
  {
   "cell_type": "code",
   "execution_count": 9,
   "metadata": {
    "collapsed": true
   },
   "outputs": [],
   "source": [
    "features = fset.features"
   ]
  },
  {
   "cell_type": "code",
   "execution_count": 10,
   "metadata": {},
   "outputs": [
    {
     "data": {
      "text/plain": [
       "[{\"attributes\": {\"OBJECTID\": 1, \"last_edited_date\": 1491594855455, \"DaysSinceObs\": 43}},\n",
       " {\"attributes\": {\"OBJECTID\": 2, \"last_edited_date\": 1494961221645, \"DaysSinceObs\": 4}},\n",
       " {\"attributes\": {\"OBJECTID\": 3, \"last_edited_date\": 1495263600000, \"DaysSinceObs\": null}},\n",
       " {\"attributes\": {\"OBJECTID\": 4, \"last_edited_date\": 1495263600000, \"DaysSinceObs\": null}}]"
      ]
     },
     "execution_count": 10,
     "metadata": {},
     "output_type": "execute_result"
    }
   ],
   "source": [
    "features"
   ]
  },
  {
   "cell_type": "code",
   "execution_count": 11,
   "metadata": {
    "collapsed": true
   },
   "outputs": [],
   "source": [
    "updates_list = []\n",
    "to_date = datetime.datetime.today()\n",
    "for feat in features:\n",
    "    time = feat.get_value(\"last_edited_date\")\n",
    "    from_date = datetime.datetime.fromtimestamp(time / 1e3)\n",
    "    delta = to_date - from_date\n",
    "    num_days = delta.days\n",
    "    feat.set_value(\"DaysSinceObs\", num_days)\n",
    "    updates_list.append(feat)"
   ]
  },
  {
   "cell_type": "code",
   "execution_count": 13,
   "metadata": {},
   "outputs": [
    {
     "data": {
      "text/plain": [
       "{'addResults': [],\n",
       " 'deleteResults': [],\n",
       " 'updateResults': [{'globalId': None, 'objectId': 1, 'success': True},\n",
       "  {'globalId': None, 'objectId': 2, 'success': True},\n",
       "  {'globalId': None, 'objectId': 3, 'success': True},\n",
       "  {'globalId': None, 'objectId': 4, 'success': True}]}"
      ]
     },
     "execution_count": 13,
     "metadata": {},
     "output_type": "execute_result"
    }
   ],
   "source": [
    "lyr.edit_features(updates=updates_list)"
   ]
  },
  {
   "cell_type": "code",
   "execution_count": 12,
   "metadata": {},
   "outputs": [
    {
     "data": {
      "text/plain": [
       "[{\"attributes\": {\"OBJECTID\": 1, \"last_edited_date\": 1491594855455, \"DaysSinceObs\": 314}},\n",
       " {\"attributes\": {\"OBJECTID\": 2, \"last_edited_date\": 1494961221645, \"DaysSinceObs\": 275}},\n",
       " {\"attributes\": {\"OBJECTID\": 3, \"last_edited_date\": 1495263600000, \"DaysSinceObs\": 271}},\n",
       " {\"attributes\": {\"OBJECTID\": 4, \"last_edited_date\": 1495263600000, \"DaysSinceObs\": 271}}]"
      ]
     },
     "execution_count": 12,
     "metadata": {},
     "output_type": "execute_result"
    }
   ],
   "source": [
    "updates_list"
   ]
  },
  {
   "cell_type": "code",
   "execution_count": null,
   "metadata": {
    "collapsed": true
   },
   "outputs": [],
   "source": []
  }
 ],
 "metadata": {
  "kernelspec": {
   "display_name": "Python 3",
   "language": "python",
   "name": "python3"
  },
  "language_info": {
   "codemirror_mode": {
    "name": "ipython",
    "version": 3
   },
   "file_extension": ".py",
   "mimetype": "text/x-python",
   "name": "python",
   "nbconvert_exporter": "python",
   "pygments_lexer": "ipython3",
   "version": "3.6.2"
  }
 },
 "nbformat": 4,
 "nbformat_minor": 2
}
