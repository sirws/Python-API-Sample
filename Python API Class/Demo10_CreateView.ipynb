{
 "cells": [
  {
   "cell_type": "code",
   "execution_count": 11,
   "metadata": {
    "collapsed": true
   },
   "outputs": [],
   "source": [
    "import arcgis\n",
    "from getpass import getpass"
   ]
  },
  {
   "cell_type": "code",
   "execution_count": 14,
   "metadata": {},
   "outputs": [
    {
     "name": "stdout",
     "output_type": "stream",
     "text": [
      "········\n"
     ]
    }
   ],
   "source": [
    "gis = arcgis.gis.GIS(\"https://www.arcgis.com\", \"YOURUSERNAME\", getpass())"
   ]
  },
  {
   "cell_type": "markdown",
   "metadata": {},
   "source": [
    "After logging in, retrieve a hosted feature service item by ID"
   ]
  },
  {
   "cell_type": "code",
   "execution_count": 16,
   "metadata": {
    "collapsed": true
   },
   "outputs": [],
   "source": [
    "item = gis.content.get(\"93865df60aa24c0da0734267d663d4dd\")"
   ]
  },
  {
   "cell_type": "code",
   "execution_count": 17,
   "metadata": {},
   "outputs": [
    {
     "data": {
      "text/html": [
       "<div class=\"item_container\" style=\"height: auto; overflow: hidden; border: 1px solid #cfcfcf; border-radius: 2px; background: #f6fafa; line-height: 1.21429em; padding: 10px;\">\n",
       "                    <div class=\"item_left\" style=\"width: 210px; float: left;\">\n",
       "                       <a href='https://pnw.maps.arcgis.com/home/item.html?id=93865df60aa24c0da0734267d663d4dd' target='_blank'>\n",
       "                        <img src='data:image/png;base64,iVBORw0KGgoAAAANSUhEUgAAAMgAAACFCAIAAACR/CB7AAAACXBIWXMAAA7EAAAOxAGVKw4bAAAEvUlEQVR4nO3d3WubVRzA8ZO3lrSZq6ZdJNIXaDPnoBahG1oQoWN3FcZoLwcd7Ka3mxSKXhTEXqxQmAXphS8EERV2VQQbEC9kkwwFHbiCrKyZedo1k0AadFnenseLDIegZcJ+Pafn+X7+gh/hyzk5OfQ04HmeAp62oO4BYCfCggjCggjCggjCgogDEFbBcQr5vO4p8P8ETP65IT3cPdkfj/Ydaja88kbp5rm58fMXdA+FJ2J0WA/OjkTHkurUjMqmq7mt29fLw9fWdQ9lnILjKM9L9PbqHuQfzN0K11aWA8l2LzVwL1C715VQR/vjXiVzZUn3XAZJD3f/OfFiz8KZ5949Uxwf/PaTD3VP9FhY9wD/yd12vvz656nc7vN9P7S2wux6LpLf1D2XQaZSL7RW9HA23fnsVs9HS8qYrwqh+fl53TP8u55XTrx846uO1/sCk28Fm3eDnU318Jnj73/c0RnTPZoR1laWByq3QieOey+Neo2iG1aBn+5+/4c79OprukdTyuStMPvFp62t0E0edlNDra3wx88/0z2XKdxtp1p06ju/epnF5m+3asVttZGrGbOiG70VVotOcCcWyiy6DVUr7hr1wWk3dnGuMp1u/n4/1BZy6261XIvdD4/NvqN7rkfMPRWWSqXK9LG20e6/P7jOy3fqBSd+JKF7NFOsxqIjb7Q3OlSkFojU3V/efPv0zKzuoR4xNyxl9gdniOzq1c2FWRUNDV5aODkxpXucx4wOSxn8wWFvpoeFA8rcUyEONMKCCMKCCMKCCMKCCMKCCMKCCMKCCMKCCMKCCMKCCMKCCMKCCMKCCMKCCMKCCMKCCMKCCMKCCMKCCMKCCMKCCMKCCMKCCMKCCMKCCMKCCMKCCMKCCMKCCMKCCMKCCMKCCMKCCMKCCMKCCMKCCMKCCMKCCMKCCMKCCMKCCMKCCMKCCMKCCMKCCMKCCMKCCMKCCMKCCMKCCMKCCKvCKjhOIZ/XPQWUsua/2KeHuyf749G+Q82GV94o3Tw3N37+gu6hfM2SsB6cHYmOJdWpGZVNV3Nbt6+Xh6+t6x7K12zYCtdWlgPJdi814CYPu6khdbQ/7lUyV5Z0z+VrYd0DPAXutlMtOsGdWCiz6DZUrbirNnK1/KbuuXzNhq2wVCpVpo+1jXaH2kJu3a2Wa52X79QLTvxIQvdo/mXDitXV1fXdN7sj9YeNDhWpBSJ198YH752mKq1sWLFasqtXNxdmVTQ0eGnh5MSU7nH8zp6wYBQbToUwEGFBBGFBBGFBBGFBBGFBBGFBBGFBBGFBBGFBBGFBBGFBBGFBBGFBBGFBBGFBBGFBBGFBBGFBBGFBBGFBBGFBhF/C4oWjfWb/3xXywpEW9ofFC0daWL4V8sKRLjY8CrIHXjjSxfKtkBeOdLF8xeKFI10sX7FaeOFo//kiLOw/y0+F0IWwIIKwIMK4sLjUs4NBX9651LOJQWFxqWcTU7ZCLvUsY8ov71zqWcaUrZBLPcuYsmLZfalXcBzleYneXt2D7B9TVqwW+y71fHvUNSss+/j2qGvKqdBKfj7qmvIdy0p+PuqyFQry81GXFUuQ3UfdvbFiibPvqPskCAsiOBVCBGFBBGFBBGFBBGFBxF9wTmwuYB03yQAAAABJRU5ErkJggg==' width='200' height='133' class=\"itemThumbnail\">\n",
       "                       </a>\n",
       "                    </div>\n",
       "\n",
       "                    <div class=\"item_right\"     style=\"float: none; width: auto; overflow: hidden;\">\n",
       "                        <a href='https://pnw.maps.arcgis.com/home/item.html?id=93865df60aa24c0da0734267d663d4dd' target='_blank'><b>WildlifeObservation_ScottMoorePNW_view</b>\n",
       "                        </a>\n",
       "                        <br/><img src='https://pnw.maps.arcgis.com/home/js/jsapi/esri/css/images/item_type_icons/featureshosted16.png' style=\"vertical-align:middle;\">Feature Layer Collection by ScottMoorePNW\n",
       "                        <br/>Last Modified: February 15, 2018\n",
       "                        <br/>0 comments, 0 views\n",
       "                    </div>\n",
       "                </div>\n",
       "                "
      ],
      "text/plain": [
       "<Item title:\"WildlifeObservation_ScottMoorePNW_view\" type:Feature Layer Collection owner:ScottMoorePNW>"
      ]
     },
     "execution_count": 17,
     "metadata": {},
     "output_type": "execute_result"
    }
   ],
   "source": [
    "item"
   ]
  },
  {
   "cell_type": "code",
   "execution_count": null,
   "metadata": {
    "collapsed": true
   },
   "outputs": [],
   "source": [
    "flc = arcgis.features.FeatureLayerCollection.fromitem(item)\n",
    "flc.manager.create_view(\"WildlifeObservation_YOURUSERNAME_view\", spatial_reference=None, extent=None, allow_schema_changes=True, updateable=True, capabilities='Query', view_layers=None)"
   ]
  }
 ],
 "metadata": {
  "kernelspec": {
   "display_name": "Python 3",
   "language": "python",
   "name": "python3"
  },
  "language_info": {
   "codemirror_mode": {
    "name": "ipython",
    "version": 3
   },
   "file_extension": ".py",
   "mimetype": "text/x-python",
   "name": "python",
   "nbconvert_exporter": "python",
   "pygments_lexer": "ipython3",
   "version": "3.6.2"
  }
 },
 "nbformat": 4,
 "nbformat_minor": 2
}
