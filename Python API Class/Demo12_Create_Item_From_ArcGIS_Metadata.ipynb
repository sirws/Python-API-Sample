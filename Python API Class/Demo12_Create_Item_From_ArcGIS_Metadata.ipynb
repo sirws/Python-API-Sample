{
 "cells": [
  {
   "cell_type": "code",
   "execution_count": 8,
   "metadata": {
    "collapsed": true
   },
   "outputs": [],
   "source": [
    "import arcgis\n",
    "from getpass import getpass\n",
    "from xml.etree import ElementTree"
   ]
  },
  {
   "cell_type": "code",
   "execution_count": 9,
   "metadata": {},
   "outputs": [
    {
     "name": "stdout",
     "output_type": "stream",
     "text": [
      "········\n"
     ]
    }
   ],
   "source": [
    "gis = arcgis.gis.GIS(\"https://www.arcgis.com\", \"ScottMoorePNW\", getpass())"
   ]
  },
  {
   "cell_type": "code",
   "execution_count": 10,
   "metadata": {
    "collapsed": true
   },
   "outputs": [],
   "source": [
    "pathToMetadata = r'C:\\PythonClass\\Python-API-Sample\\Python API Class\\SourceData\\subunits.xml'"
   ]
  },
  {
   "cell_type": "code",
   "execution_count": 11,
   "metadata": {},
   "outputs": [],
   "source": [
    "import xml.etree.ElementTree\n",
    "e = xml.etree.ElementTree.parse(pathToMetadata).getroot()"
   ]
  },
  {
   "cell_type": "code",
   "execution_count": 12,
   "metadata": {},
   "outputs": [
    {
     "name": "stdout",
     "output_type": "stream",
     "text": [
      "http://www.asgdc.state.ak.us/data/adfg/comm/gmusp.zip\n"
     ]
    }
   ],
   "source": [
    "distInfo=e.findall('distInfo')\n",
    "linkUrl=\"\"\n",
    "for nodes in distInfo:\n",
    "    for node in nodes.getiterator():\n",
    "        if node.tag=='linkage':\n",
    "            print(node.text)\n",
    "            linkUrl = node.text"
   ]
  },
  {
   "cell_type": "code",
   "execution_count": 13,
   "metadata": {},
   "outputs": [
    {
     "name": "stdout",
     "output_type": "stream",
     "text": [
      "ADF&G Wildlife Management Areas\n"
     ]
    }
   ],
   "source": [
    "idinfo=e.findall('idinfo')\n",
    "title=\"\"\n",
    "for nodes in idinfo:\n",
    "    for node in nodes.getiterator():\n",
    "        if node.tag=='sername':\n",
    "            print(node.text)\n",
    "            title = node.text"
   ]
  },
  {
   "cell_type": "code",
   "execution_count": 14,
   "metadata": {},
   "outputs": [
    {
     "data": {
      "text/plain": [
       "True"
      ]
     },
     "execution_count": 14,
     "metadata": {},
     "output_type": "execute_result"
    }
   ],
   "source": [
    "item_properties={'title':title,\n",
    "                 'type':'Document Link',\n",
    "                'description':title,\n",
    "                'tags':title,\n",
    "                'typeKeywords':'Data, Document',\n",
    "                'url':linkUrl}\n",
    "newItem = gis.content.add(item_properties)\n",
    "newItem.update(newItem.properties,metadata=pathToMetadata)"
   ]
  },
  {
   "cell_type": "code",
   "execution_count": null,
   "metadata": {
    "collapsed": true
   },
   "outputs": [],
   "source": []
  }
 ],
 "metadata": {
  "kernelspec": {
   "display_name": "Python 3",
   "language": "python",
   "name": "python3"
  },
  "language_info": {
   "codemirror_mode": {
    "name": "ipython",
    "version": 3
   },
   "file_extension": ".py",
   "mimetype": "text/x-python",
   "name": "python",
   "nbconvert_exporter": "python",
   "pygments_lexer": "ipython3",
   "version": "3.6.2"
  }
 },
 "nbformat": 4,
 "nbformat_minor": 2
}
