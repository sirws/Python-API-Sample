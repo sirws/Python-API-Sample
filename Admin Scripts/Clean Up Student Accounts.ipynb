{
 "cells": [
  {
   "cell_type": "code",
   "execution_count": 1,
   "metadata": {
    "collapsed": true
   },
   "outputs": [],
   "source": [
    "from arcgis.gis import GIS\n",
    "from IPython.display import display\n",
    "from getpass import getpass"
   ]
  },
  {
   "cell_type": "code",
   "execution_count": 3,
   "metadata": {},
   "outputs": [
    {
     "name": "stdout",
     "output_type": "stream",
     "text": [
      "········\n"
     ]
    }
   ],
   "source": [
    "source_password = getpass()\n",
    "gis = GIS(\"https://www.arcgis.com\", \"ScottMoorePNW\", source_password)"
   ]
  },
  {
   "cell_type": "code",
   "execution_count": 4,
   "metadata": {
    "scrolled": true
   },
   "outputs": [
    {
     "name": "stdout",
     "output_type": "stream",
     "text": [
      "Deleting Items for student10_pnw\n",
      "Deleting Items for student11_pnw\n",
      "Deleting Items for student12_pnw\n",
      "Deleting Items for student13_pnw\n",
      "Deleting Items for student14_pnw\n",
      "Deleting Items for student15_pnw\n",
      "Deleting Items for student16_pnw\n",
      "Deleting Items for student17_pnw\n",
      "Deleting Items for student18_pnw\n",
      "Deleting Items for student19_pnw\n",
      "Deleting Items for student1_pnw\n",
      "Deleting Items for student20_pnw\n",
      "Deleting Items for student2_pnw\n",
      "Deleting Items for student3_pnw\n",
      "Deleting Items for student4_pnw\n",
      "Deleting Items for student5_pnw\n",
      "Deleting Items for student6_pnw\n",
      "Deleting Items for student7_pnw\n",
      "Deleting Items for student8_pnw\n",
      "Deleting Items for student9_pnw\n"
     ]
    }
   ],
   "source": [
    "source_users = gis.users.search('student')\n",
    "for user in source_users:\n",
    "    print(\"Deleting Items for \" + user.username)\n",
    "    #First try an remove all of the items\n",
    "    retry = True\n",
    "    while retry:\n",
    "        failDelete = False\n",
    "        for item in user.items(None):\n",
    "            item.protect(False)\n",
    "            try:\n",
    "                success = item.delete()\n",
    "                if success:\n",
    "                    print(\"Deleted item: \" + item.name)\n",
    "            except:\n",
    "                retry = True\n",
    "                failDelete = True\n",
    "        for folder in user.folders:\n",
    "            for item in user.items(folder):\n",
    "                item.protect(False)\n",
    "                try:\n",
    "                    success = item.delete()\n",
    "                    if success:\n",
    "                        print(\"Deleted item: \" + item.name)\n",
    "                except:\n",
    "                    retry = True\n",
    "                    failDelete = True\n",
    "        if failDelete == False:\n",
    "            retry = False\n",
    "    #Now delete the folders\n",
    "    for folder in user.folders:\n",
    "        print(\"Deleting folder: \" + folder.get(\"title\"))\n",
    "        gis.content.delete_folder(folder.get(\"title\"),user.username)\n",
    "    #Finally, delete the groups\n",
    "    for group in user.groups:\n",
    "        if group.owner == user.username:\n",
    "            print(\"Deleting group: \" + group.title)\n",
    "            group.delete()\n",
    "            \n",
    "        \n",
    "                "
   ]
  },
  {
   "cell_type": "code",
   "execution_count": null,
   "metadata": {
    "collapsed": true
   },
   "outputs": [],
   "source": []
  }
 ],
 "metadata": {
  "kernelspec": {
   "display_name": "Python 3",
   "language": "python",
   "name": "python3"
  },
  "language_info": {
   "codemirror_mode": {
    "name": "ipython",
    "version": 3
   },
   "file_extension": ".py",
   "mimetype": "text/x-python",
   "name": "python",
   "nbconvert_exporter": "python",
   "pygments_lexer": "ipython3",
   "version": "3.6.2"
  }
 },
 "nbformat": 4,
 "nbformat_minor": 2
}
